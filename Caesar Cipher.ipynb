{
 "cells": [
  {
   "cell_type": "code",
   "execution_count": 9,
   "id": "297d5b99-ac86-4e3e-9c75-8bec269c8a2d",
   "metadata": {},
   "outputs": [
    {
     "name": "stdin",
     "output_type": "stream",
     "text": [
      "Enter your message to encrypt:  GAZI KHAN\n",
      "Enter the shift value (an integer):  5\n"
     ]
    },
    {
     "name": "stdout",
     "output_type": "stream",
     "text": [
      "Encrypted message: LFEN PMFS\n"
     ]
    }
   ],
   "source": [
    "def caesar_encrypt(text, shift):\n",
    "    encrypted_text = \"\"\n",
    "    for char in text:\n",
    "        if char.isalpha():\n",
    "            # Determine the ASCII value for the shift\n",
    "            start = 65 if char.isupper() else 97\n",
    "            encrypted_char = chr((ord(char) - start + shift) % 26 + start)\n",
    "            encrypted_text += encrypted_char\n",
    "        else:\n",
    "            # Non-alphabetic characters remain unchanged\n",
    "            encrypted_text += char\n",
    "    return encrypted_text\n",
    "\n",
    "# Get user input for encryption\n",
    "message_to_encrypt = input(\"Enter your message to encrypt: \")\n",
    "shift_value_for_encryption = int(input(\"Enter the shift value (an integer): \"))\n",
    "encrypted_message = caesar_encrypt(message_to_encrypt, shift_value_for_encryption)\n",
    "print(f\"Encrypted message: {encrypted_message}\")\n"
   ]
  },
  {
   "cell_type": "code",
   "execution_count": 5,
   "id": "daeddf2b-a090-462b-885f-e7658471eae5",
   "metadata": {},
   "outputs": [],
   "source": [
    "def caesar_decrypt(text, shift):\n",
    "    decrypted_text = \"\"\n",
    "    for char in text:\n",
    "        if char.isalpha():\n",
    "            # Determine the ASCII value for the shift\n",
    "            start = 65 if char.isupper() else 97\n",
    "            decrypted_char = chr((ord(char) - start - shift) % 26 + start)\n",
    "            decrypted_text += decrypted_char\n",
    "        else:\n",
    "            # Non-alphabetic characters remain unchanged\n",
    "            decrypted_text += char\n",
    "    return decrypted_text\n"
   ]
  },
  {
   "cell_type": "code",
   "execution_count": null,
   "id": "7ab22217-5d27-4405-8e0d-d58a22a5a0b9",
   "metadata": {},
   "outputs": [],
   "source": []
  }
 ],
 "metadata": {
  "kernelspec": {
   "display_name": "Python 3 (ipykernel)",
   "language": "python",
   "name": "python3"
  },
  "language_info": {
   "codemirror_mode": {
    "name": "ipython",
    "version": 3
   },
   "file_extension": ".py",
   "mimetype": "text/x-python",
   "name": "python",
   "nbconvert_exporter": "python",
   "pygments_lexer": "ipython3",
   "version": "3.12.4"
  }
 },
 "nbformat": 4,
 "nbformat_minor": 5
}
